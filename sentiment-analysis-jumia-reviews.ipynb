{
 "cells": [
  {
   "cell_type": "code",
   "execution_count": 29,
   "metadata": {
    "deletable": false,
    "editable": false
   },
   "outputs": [],
   "source": [
    "# Initialize Otter\n",
    "import otter\n",
    "grader = otter.Notebook(\"sentiment-analysis-jumia-reviews.ipynb\")"
   ]
  },
  {
   "cell_type": "markdown",
   "metadata": {},
   "source": [
    "## Week 8 - Sentiment Analysis of Jumia Reviews\n",
    "\n",
    "Product reviews are evaluations or opinions shared by consumers who have purchased and used a specific product or service. These reviews are typically written on online platforms such as e-commerce websites, social media, or review websites.\n",
    "\n",
    "In this assignment, you will apply your knowledge of sentiment analysis to analyze the sentiments expressed in product reviews by Jumia customers. You will work together as a group to preprocess the text data, build a sentiment analysis model, and interpret the results.\n",
    "\n",
    "\n"
   ]
  },
  {
   "cell_type": "code",
   "execution_count": 30,
   "metadata": {},
   "outputs": [],
   "source": [
    "import pandas as pd\n",
    "import numpy as np\n",
    "import nltk\n",
    "# nltk.data.path.append(os.path.join(os.getcwd(), 'nltk_data'))\n",
    "# nltk.download('punkt')\n",
    "import os\n",
    "from sklearn.model_selection import train_test_split\n",
    "from sklearn.linear_model import LinearRegression\n",
    "from sklearn.feature_extraction.text import CountVectorizer\n",
    "from sklearn.naive_bayes import MultinomialNB\n",
    "from sklearn.metrics import accuracy_score, precision_score, recall_score, f1_score\n",
    "from nltk.tokenize import word_tokenize\n",
    "from nltk.corpus import stopwords\n",
    "import joblib\n",
    "\n",
    "%matplotlib inline\n",
    "import otter\n",
    "grader = otter.Notebook()"
   ]
  },
  {
   "cell_type": "markdown",
   "metadata": {},
   "source": [
    "**Question 1:** Load the product reviews dataset into a variable called `customer_review_df`. Next, write a function called `check_data` to check if the data has been loaded successfully.\n",
    "\n",
    "**Question 1.1:** Explore the distribution of sentiment labels in the dataset.\n",
    "\n",
    "**Question 1.2** Engineer a new feature called `Sentiment` from the _Rating_ column. This takes the values -1, 0, and 1 for `negative`, `neutral`, and `positive`.\n",
    "- Reviews with Rating > 3 is positive\n",
    "- Reviews with Rating = 3 is neutral\n",
    "- Reviews with Rating < 3 is negative"
   ]
  },
  {
   "cell_type": "code",
   "execution_count": 31,
   "metadata": {
    "tags": []
   },
   "outputs": [
    {
     "name": "stdout",
     "output_type": "stream",
     "text": [
      "Data loaded successfully.\n",
      "   Rating                   Title  \\\n",
      "0       3               I like it   \n",
      "1       1  not happy with product   \n",
      "2       5                    good   \n",
      "3       4                    Good   \n",
      "4       4                 quality   \n",
      "\n",
      "                                              Review  \n",
      "0         The neck need to be adjusted, it's too big  \n",
      "1  You people should improve in the item's you pe...  \n",
      "2                                            Well ok  \n",
      "3                                           Was Fine  \n",
      "4                       Quality is very ok with size  \n",
      "\n",
      "The sentiment distribution \n",
      " 1    76\n",
      " 0    14\n",
      "-1    10\n",
      "Name: Sentiment, dtype: int64\n"
     ]
    },
    {
     "data": {
      "text/html": [
       "<div>\n",
       "<style scoped>\n",
       "    .dataframe tbody tr th:only-of-type {\n",
       "        vertical-align: middle;\n",
       "    }\n",
       "\n",
       "    .dataframe tbody tr th {\n",
       "        vertical-align: top;\n",
       "    }\n",
       "\n",
       "    .dataframe thead th {\n",
       "        text-align: right;\n",
       "    }\n",
       "</style>\n",
       "<table border=\"1\" class=\"dataframe\">\n",
       "  <thead>\n",
       "    <tr style=\"text-align: right;\">\n",
       "      <th></th>\n",
       "      <th>Rating</th>\n",
       "      <th>Title</th>\n",
       "      <th>Review</th>\n",
       "      <th>Sentiment</th>\n",
       "    </tr>\n",
       "  </thead>\n",
       "  <tbody>\n",
       "    <tr>\n",
       "      <th>0</th>\n",
       "      <td>3</td>\n",
       "      <td>I like it</td>\n",
       "      <td>The neck need to be adjusted, it's too big</td>\n",
       "      <td>0</td>\n",
       "    </tr>\n",
       "    <tr>\n",
       "      <th>1</th>\n",
       "      <td>1</td>\n",
       "      <td>not happy with product</td>\n",
       "      <td>You people should improve in the item's you pe...</td>\n",
       "      <td>-1</td>\n",
       "    </tr>\n",
       "    <tr>\n",
       "      <th>2</th>\n",
       "      <td>5</td>\n",
       "      <td>good</td>\n",
       "      <td>Well ok</td>\n",
       "      <td>1</td>\n",
       "    </tr>\n",
       "    <tr>\n",
       "      <th>3</th>\n",
       "      <td>4</td>\n",
       "      <td>Good</td>\n",
       "      <td>Was Fine</td>\n",
       "      <td>1</td>\n",
       "    </tr>\n",
       "    <tr>\n",
       "      <th>4</th>\n",
       "      <td>4</td>\n",
       "      <td>quality</td>\n",
       "      <td>Quality is very ok with size</td>\n",
       "      <td>1</td>\n",
       "    </tr>\n",
       "    <tr>\n",
       "      <th>...</th>\n",
       "      <td>...</td>\n",
       "      <td>...</td>\n",
       "      <td>...</td>\n",
       "      <td>...</td>\n",
       "    </tr>\n",
       "    <tr>\n",
       "      <th>95</th>\n",
       "      <td>5</td>\n",
       "      <td>wonderful</td>\n",
       "      <td>Great fabrics. Looks good on me every time</td>\n",
       "      <td>1</td>\n",
       "    </tr>\n",
       "    <tr>\n",
       "      <th>96</th>\n",
       "      <td>5</td>\n",
       "      <td>Nice quality</td>\n",
       "      <td>Good Quality</td>\n",
       "      <td>1</td>\n",
       "    </tr>\n",
       "    <tr>\n",
       "      <th>97</th>\n",
       "      <td>1</td>\n",
       "      <td>4 Top</td>\n",
       "      <td>Very low quality</td>\n",
       "      <td>-1</td>\n",
       "    </tr>\n",
       "    <tr>\n",
       "      <th>98</th>\n",
       "      <td>5</td>\n",
       "      <td>service rendered</td>\n",
       "      <td>The service is good, I thought is children shirt</td>\n",
       "      <td>1</td>\n",
       "    </tr>\n",
       "    <tr>\n",
       "      <th>99</th>\n",
       "      <td>5</td>\n",
       "      <td>very fitted</td>\n",
       "      <td>Looks good on me,I love it</td>\n",
       "      <td>1</td>\n",
       "    </tr>\n",
       "  </tbody>\n",
       "</table>\n",
       "<p>100 rows × 4 columns</p>\n",
       "</div>"
      ],
      "text/plain": [
       "    Rating                   Title  \\\n",
       "0        3               I like it   \n",
       "1        1  not happy with product   \n",
       "2        5                    good   \n",
       "3        4                    Good   \n",
       "4        4                 quality   \n",
       "..     ...                     ...   \n",
       "95       5               wonderful   \n",
       "96       5            Nice quality   \n",
       "97       1                   4 Top   \n",
       "98       5        service rendered   \n",
       "99       5             very fitted   \n",
       "\n",
       "                                               Review  Sentiment  \n",
       "0          The neck need to be adjusted, it's too big          0  \n",
       "1   You people should improve in the item's you pe...         -1  \n",
       "2                                             Well ok          1  \n",
       "3                                            Was Fine          1  \n",
       "4                        Quality is very ok with size          1  \n",
       "..                                                ...        ...  \n",
       "95         Great fabrics. Looks good on me every time          1  \n",
       "96                                       Good Quality          1  \n",
       "97                                   Very low quality         -1  \n",
       "98   The service is good, I thought is children shirt          1  \n",
       "99                         Looks good on me,I love it          1  \n",
       "\n",
       "[100 rows x 4 columns]"
      ]
     },
     "execution_count": 31,
     "metadata": {},
     "output_type": "execute_result"
    }
   ],
   "source": [
    "# load the customer retention dataset\n",
    "customer_review_df = pd.read_csv('sentiment-analysis-jumia-reviews.csv')\n",
    "\n",
    "# write a function called `check_data` to check data loading is successful\n",
    "def check_data():\n",
    "    if customer_review_df is not None:\n",
    "        print(\"Data loaded successfully.\")\n",
    "        print(customer_review_df.head())\n",
    "    else:\n",
    "        print(\"Error loading data.\")\n",
    "\n",
    "check_data()\n",
    "\n",
    "# Define a function to convert ratings to sentiments\n",
    "def convert_to_sentiment(rating):\n",
    "    if rating > 3:\n",
    "        return 1  # Positive\n",
    "    elif rating == 3:\n",
    "        return 0  # Neutral\n",
    "    else:\n",
    "        return -1  # Negative\n",
    "\n",
    "# Apply the function to create a 'Sentiment' column\n",
    "customer_review_df['Sentiment'] = customer_review_df['Rating'].apply(\n",
    "    convert_to_sentiment)\n",
    "customer_review_df['Sentiment']\n",
    "\n",
    "# Exploring the distribution of sentiment labels\n",
    "sentiment_distribution = customer_review_df['Sentiment'].value_counts()\n",
    "print(f\"\\nThe sentiment distribution \\n{sentiment_distribution}\")\n",
    "\n",
    "customer_review_df"
   ]
  },
  {
   "cell_type": "markdown",
   "metadata": {},
   "source": [
    "**Question 2:** Preprocess the text data by completing the following:\n",
    "- Convert the reviews to lowercase and remove punctuation. \n",
    "- Tokenize the text data to split it into individual words or tokens.\n",
    "\n",
    "**Note**: Assign your final preprocessed dataset to a variable called `processed_customer_review_df`. Failure to do this might result in you not getting a score for this question.\n"
   ]
  },
  {
   "cell_type": "code",
   "execution_count": 32,
   "metadata": {
    "tags": []
   },
   "outputs": [
    {
     "data": {
      "text/html": [
       "<div>\n",
       "<style scoped>\n",
       "    .dataframe tbody tr th:only-of-type {\n",
       "        vertical-align: middle;\n",
       "    }\n",
       "\n",
       "    .dataframe tbody tr th {\n",
       "        vertical-align: top;\n",
       "    }\n",
       "\n",
       "    .dataframe thead th {\n",
       "        text-align: right;\n",
       "    }\n",
       "</style>\n",
       "<table border=\"1\" class=\"dataframe\">\n",
       "  <thead>\n",
       "    <tr style=\"text-align: right;\">\n",
       "      <th></th>\n",
       "      <th>Rating</th>\n",
       "      <th>Title</th>\n",
       "      <th>Review</th>\n",
       "      <th>Sentiment</th>\n",
       "      <th>Tokens</th>\n",
       "    </tr>\n",
       "  </thead>\n",
       "  <tbody>\n",
       "    <tr>\n",
       "      <th>0</th>\n",
       "      <td>3</td>\n",
       "      <td>I like it</td>\n",
       "      <td>the neck need to be adjusted its too big</td>\n",
       "      <td>0</td>\n",
       "      <td>the neck need to be adjusted its too big</td>\n",
       "    </tr>\n",
       "    <tr>\n",
       "      <th>1</th>\n",
       "      <td>1</td>\n",
       "      <td>not happy with product</td>\n",
       "      <td>you people should improve in the items you peo...</td>\n",
       "      <td>-1</td>\n",
       "      <td>you people should improve in the items you peo...</td>\n",
       "    </tr>\n",
       "    <tr>\n",
       "      <th>2</th>\n",
       "      <td>5</td>\n",
       "      <td>good</td>\n",
       "      <td>well ok</td>\n",
       "      <td>1</td>\n",
       "      <td>well ok</td>\n",
       "    </tr>\n",
       "    <tr>\n",
       "      <th>3</th>\n",
       "      <td>4</td>\n",
       "      <td>Good</td>\n",
       "      <td>was fine</td>\n",
       "      <td>1</td>\n",
       "      <td>was fine</td>\n",
       "    </tr>\n",
       "    <tr>\n",
       "      <th>4</th>\n",
       "      <td>4</td>\n",
       "      <td>quality</td>\n",
       "      <td>quality is very ok with size</td>\n",
       "      <td>1</td>\n",
       "      <td>quality is very ok with size</td>\n",
       "    </tr>\n",
       "    <tr>\n",
       "      <th>...</th>\n",
       "      <td>...</td>\n",
       "      <td>...</td>\n",
       "      <td>...</td>\n",
       "      <td>...</td>\n",
       "      <td>...</td>\n",
       "    </tr>\n",
       "    <tr>\n",
       "      <th>95</th>\n",
       "      <td>5</td>\n",
       "      <td>wonderful</td>\n",
       "      <td>great fabrics looks good on me every time</td>\n",
       "      <td>1</td>\n",
       "      <td>great fabrics looks good on me every time</td>\n",
       "    </tr>\n",
       "    <tr>\n",
       "      <th>96</th>\n",
       "      <td>5</td>\n",
       "      <td>Nice quality</td>\n",
       "      <td>good quality</td>\n",
       "      <td>1</td>\n",
       "      <td>good quality</td>\n",
       "    </tr>\n",
       "    <tr>\n",
       "      <th>97</th>\n",
       "      <td>1</td>\n",
       "      <td>4 Top</td>\n",
       "      <td>very low quality</td>\n",
       "      <td>-1</td>\n",
       "      <td>very low quality</td>\n",
       "    </tr>\n",
       "    <tr>\n",
       "      <th>98</th>\n",
       "      <td>5</td>\n",
       "      <td>service rendered</td>\n",
       "      <td>the service is good i thought is children shirt</td>\n",
       "      <td>1</td>\n",
       "      <td>the service is good i thought is children shirt</td>\n",
       "    </tr>\n",
       "    <tr>\n",
       "      <th>99</th>\n",
       "      <td>5</td>\n",
       "      <td>very fitted</td>\n",
       "      <td>looks good on mei love it</td>\n",
       "      <td>1</td>\n",
       "      <td>looks good on mei love it</td>\n",
       "    </tr>\n",
       "  </tbody>\n",
       "</table>\n",
       "<p>100 rows × 5 columns</p>\n",
       "</div>"
      ],
      "text/plain": [
       "    Rating                   Title  \\\n",
       "0        3               I like it   \n",
       "1        1  not happy with product   \n",
       "2        5                    good   \n",
       "3        4                    Good   \n",
       "4        4                 quality   \n",
       "..     ...                     ...   \n",
       "95       5               wonderful   \n",
       "96       5            Nice quality   \n",
       "97       1                   4 Top   \n",
       "98       5        service rendered   \n",
       "99       5             very fitted   \n",
       "\n",
       "                                               Review  Sentiment  \\\n",
       "0            the neck need to be adjusted its too big          0   \n",
       "1   you people should improve in the items you peo...         -1   \n",
       "2                                             well ok          1   \n",
       "3                                            was fine          1   \n",
       "4                        quality is very ok with size          1   \n",
       "..                                                ...        ...   \n",
       "95          great fabrics looks good on me every time          1   \n",
       "96                                       good quality          1   \n",
       "97                                   very low quality         -1   \n",
       "98    the service is good i thought is children shirt          1   \n",
       "99                          looks good on mei love it          1   \n",
       "\n",
       "                                               Tokens  \n",
       "0            the neck need to be adjusted its too big  \n",
       "1   you people should improve in the items you peo...  \n",
       "2                                             well ok  \n",
       "3                                            was fine  \n",
       "4                        quality is very ok with size  \n",
       "..                                                ...  \n",
       "95          great fabrics looks good on me every time  \n",
       "96                                       good quality  \n",
       "97                                   very low quality  \n",
       "98    the service is good i thought is children shirt  \n",
       "99                          looks good on mei love it  \n",
       "\n",
       "[100 rows x 5 columns]"
      ]
     },
     "execution_count": 32,
     "metadata": {},
     "output_type": "execute_result"
    }
   ],
   "source": [
    "# Preprocess text data\n",
    "def preprocess_text(text):\n",
    "\n",
    "    # Convert to lowercase\n",
    "    text = text.lower()\n",
    "    # Remove punctuation\n",
    "    text = ''.join([char for char in text if char.isalnum() or char.isspace()])\n",
    "    return text\n",
    "\n",
    "\n",
    "# Apply text preprocessing to 'Review' column\n",
    "customer_review_df['Review'] = customer_review_df['Review'].apply(\n",
    "    preprocess_text)\n",
    "\n",
    "# Tokenize the text data\n",
    "customer_review_df['Tokens'] = customer_review_df['Review'].apply(\n",
    "    word_tokenize)\n",
    "\n",
    "# Combine tokens into a string (needed for feature extraction)\n",
    "customer_review_df['Tokens'] = customer_review_df['Tokens'].apply(\n",
    "    lambda tokens: ' '.join(tokens))\n",
    "\n",
    "processed_customer_review_df = customer_review_df.copy()\n",
    "processed_customer_review_df"
   ]
  },
  {
   "cell_type": "markdown",
   "metadata": {},
   "source": [
    "**Question 3:** Split your processed dataset into training and testing set by using `80:20` rule. You can use **X_train, X_test, y_train, y_test** variable to store your splitted dataset.\n",
    "\n",
    "**Question 3.1:** Choose a feature extraction technique and implement it. You can choose from techniques like `BoW`, `TF-IDF`, or Word Embeddings. Remember to explain your choice.\n",
    "\n",
    "**Question 3.2:** Train the sentiment analysis model using `MultinomialNB()` to analyse the reviews. \n",
    "\n",
    "**Note**: Assign your model to a variable called `sentiment_review_model`. Failure to do this might result in you not getting a score for this question."
   ]
  },
  {
   "cell_type": "code",
   "execution_count": 33,
   "metadata": {
    "tags": []
   },
   "outputs": [
    {
     "data": {
      "text/html": [
       "<style>#sk-container-id-4 {color: black;}#sk-container-id-4 pre{padding: 0;}#sk-container-id-4 div.sk-toggleable {background-color: white;}#sk-container-id-4 label.sk-toggleable__label {cursor: pointer;display: block;width: 100%;margin-bottom: 0;padding: 0.3em;box-sizing: border-box;text-align: center;}#sk-container-id-4 label.sk-toggleable__label-arrow:before {content: \"▸\";float: left;margin-right: 0.25em;color: #696969;}#sk-container-id-4 label.sk-toggleable__label-arrow:hover:before {color: black;}#sk-container-id-4 div.sk-estimator:hover label.sk-toggleable__label-arrow:before {color: black;}#sk-container-id-4 div.sk-toggleable__content {max-height: 0;max-width: 0;overflow: hidden;text-align: left;background-color: #f0f8ff;}#sk-container-id-4 div.sk-toggleable__content pre {margin: 0.2em;color: black;border-radius: 0.25em;background-color: #f0f8ff;}#sk-container-id-4 input.sk-toggleable__control:checked~div.sk-toggleable__content {max-height: 200px;max-width: 100%;overflow: auto;}#sk-container-id-4 input.sk-toggleable__control:checked~label.sk-toggleable__label-arrow:before {content: \"▾\";}#sk-container-id-4 div.sk-estimator input.sk-toggleable__control:checked~label.sk-toggleable__label {background-color: #d4ebff;}#sk-container-id-4 div.sk-label input.sk-toggleable__control:checked~label.sk-toggleable__label {background-color: #d4ebff;}#sk-container-id-4 input.sk-hidden--visually {border: 0;clip: rect(1px 1px 1px 1px);clip: rect(1px, 1px, 1px, 1px);height: 1px;margin: -1px;overflow: hidden;padding: 0;position: absolute;width: 1px;}#sk-container-id-4 div.sk-estimator {font-family: monospace;background-color: #f0f8ff;border: 1px dotted black;border-radius: 0.25em;box-sizing: border-box;margin-bottom: 0.5em;}#sk-container-id-4 div.sk-estimator:hover {background-color: #d4ebff;}#sk-container-id-4 div.sk-parallel-item::after {content: \"\";width: 100%;border-bottom: 1px solid gray;flex-grow: 1;}#sk-container-id-4 div.sk-label:hover label.sk-toggleable__label {background-color: #d4ebff;}#sk-container-id-4 div.sk-serial::before {content: \"\";position: absolute;border-left: 1px solid gray;box-sizing: border-box;top: 0;bottom: 0;left: 50%;z-index: 0;}#sk-container-id-4 div.sk-serial {display: flex;flex-direction: column;align-items: center;background-color: white;padding-right: 0.2em;padding-left: 0.2em;position: relative;}#sk-container-id-4 div.sk-item {position: relative;z-index: 1;}#sk-container-id-4 div.sk-parallel {display: flex;align-items: stretch;justify-content: center;background-color: white;position: relative;}#sk-container-id-4 div.sk-item::before, #sk-container-id-4 div.sk-parallel-item::before {content: \"\";position: absolute;border-left: 1px solid gray;box-sizing: border-box;top: 0;bottom: 0;left: 50%;z-index: -1;}#sk-container-id-4 div.sk-parallel-item {display: flex;flex-direction: column;z-index: 1;position: relative;background-color: white;}#sk-container-id-4 div.sk-parallel-item:first-child::after {align-self: flex-end;width: 50%;}#sk-container-id-4 div.sk-parallel-item:last-child::after {align-self: flex-start;width: 50%;}#sk-container-id-4 div.sk-parallel-item:only-child::after {width: 0;}#sk-container-id-4 div.sk-dashed-wrapped {border: 1px dashed gray;margin: 0 0.4em 0.5em 0.4em;box-sizing: border-box;padding-bottom: 0.4em;background-color: white;}#sk-container-id-4 div.sk-label label {font-family: monospace;font-weight: bold;display: inline-block;line-height: 1.2em;}#sk-container-id-4 div.sk-label-container {text-align: center;}#sk-container-id-4 div.sk-container {/* jupyter's `normalize.less` sets `[hidden] { display: none; }` but bootstrap.min.css set `[hidden] { display: none !important; }` so we also need the `!important` here to be able to override the default hidden behavior on the sphinx rendered scikit-learn.org. See: https://github.com/scikit-learn/scikit-learn/issues/21755 */display: inline-block !important;position: relative;}#sk-container-id-4 div.sk-text-repr-fallback {display: none;}</style><div id=\"sk-container-id-4\" class=\"sk-top-container\"><div class=\"sk-text-repr-fallback\"><pre>MultinomialNB()</pre><b>In a Jupyter environment, please rerun this cell to show the HTML representation or trust the notebook. <br />On GitHub, the HTML representation is unable to render, please try loading this page with nbviewer.org.</b></div><div class=\"sk-container\" hidden><div class=\"sk-item\"><div class=\"sk-estimator sk-toggleable\"><input class=\"sk-toggleable__control sk-hidden--visually\" id=\"sk-estimator-id-4\" type=\"checkbox\" checked><label for=\"sk-estimator-id-4\" class=\"sk-toggleable__label sk-toggleable__label-arrow\">MultinomialNB</label><div class=\"sk-toggleable__content\"><pre>MultinomialNB()</pre></div></div></div></div></div>"
      ],
      "text/plain": [
       "MultinomialNB()"
      ]
     },
     "execution_count": 33,
     "metadata": {},
     "output_type": "execute_result"
    }
   ],
   "source": [
    "\n",
    "# Split the dataset into training and testing sets (80% train, 20% test)\n",
    "X_train, X_test, y_train, y_test = train_test_split(processed_customer_review_df['Tokens'], \n",
    "                                                        processed_customer_review_df['Sentiment'], test_size=0.2, random_state=42)\n",
    "\n",
    "# Choose a feature extraction technique (e.g., Bag of Words)\n",
    "vectorizer = CountVectorizer(max_features=1000)  # Limit to the top 1000 words\n",
    "X_train_bow = vectorizer.fit_transform(X_train)\n",
    "X_test_bow = vectorizer.transform(X_test)\n",
    "\n",
    "\n",
    "# Create and train the sentiment analysis model\n",
    "sentiment_review_model = MultinomialNB()\n",
    "sentiment_review_model.fit(X_train_bow, y_train)"
   ]
  },
  {
   "cell_type": "markdown",
   "metadata": {},
   "source": [
    "**Question 4:** Predict using the developed model and evaluate the model. Evaluate this model using MAE, MSE, RMSE, and R-squared.\n",
    "\n",
    "**Note**: Assign your prediction to a variable called `prediction`. Failure to do this might result in you not getting a score for this question."
   ]
  },
  {
   "cell_type": "code",
   "execution_count": 34,
   "metadata": {
    "tags": []
   },
   "outputs": [
    {
     "name": "stdout",
     "output_type": "stream",
     "text": [
      "Mean Absolute Error (MAE): 0.250\n",
      "Mean Squared Error (MSE): 0.350\n",
      "Root Mean Squared Error (RMSE): 0.59161\n",
      "R-squared (R²): -0.129\n"
     ]
    }
   ],
   "source": [
    "from sklearn.metrics import mean_absolute_error, mean_squared_error, r2_score\n",
    "\n",
    "# analyse reviews using the model\n",
    "prediction = sentiment_review_model.predict(X_test_bow)\n",
    "\n",
    "# evaluate the model using different metrics\n",
    "mae = mean_absolute_error(y_test, prediction)\n",
    "mse = mean_squared_error(y_test, prediction)\n",
    "rmse = np.sqrt(mse)\n",
    "r2 = r2_score(y_test, prediction)\n",
    "\n",
    "# Display the evaluation metrics\n",
    "# Print the results\n",
    "print(f\"Mean Absolute Error (MAE): {mae:.3f}\")\n",
    "print(f\"Mean Squared Error (MSE): {mse:.3f}\")\n",
    "print(f\"Root Mean Squared Error (RMSE): {rmse:.5f}\")\n",
    "print(f\"R-squared (R²): {r2:.3f}\")"
   ]
  },
  {
   "cell_type": "markdown",
   "metadata": {},
   "source": [
    "<!-- BEGIN QUESTION -->\n",
    "\n",
    "**Question 5:** What insight can you derive from this data?"
   ]
  },
  {
   "cell_type": "markdown",
   "metadata": {},
   "source": [
    "The model's performance, as indicated by the evaluation metrics, is not satisfactory. The MAE value of `0.25` indicates that, on average, the model's predictions differ by 0.25 from the actual sentiment labels. The MSE value of `0.35` signifies the average squared deviation of the model's predictions from the true sentiment labels. The RMSE value of approximately `0.59` suggests that, on average, the model's predictions deviate by approximately 0.59 from the actual sentiment labels. The R2 value of `-0.129` indicates that the model does not perform well, as it has negative predictive capability. It might be performing worse than a simple mean-based model. \n",
    "\n",
    "The negative R2 value and the other error metrics suggest that the model struggles to capture the variability in sentiment labels, possibly indicating the need for further refinement or exploration of alternative modeling approaches."
   ]
  },
  {
   "cell_type": "code",
   "execution_count": 35,
   "metadata": {},
   "outputs": [
    {
     "data": {
      "text/plain": [
       "['count_vectorizer.pkl']"
      ]
     },
     "execution_count": 35,
     "metadata": {},
     "output_type": "execute_result"
    }
   ],
   "source": [
    "# save the model to a .pkl file\n",
    "joblib.dump(sentiment_review_model, 'sentiment_model.pkl')\n",
    "joblib.dump(vectorizer, 'count_vectorizer.pkl')"
   ]
  },
  {
   "cell_type": "markdown",
   "metadata": {},
   "source": [
    "<!-- END QUESTION -->\n",
    "\n",
    "<!-- END QUESTION -->\n",
    "\n"
   ]
  },
  {
   "cell_type": "markdown",
   "metadata": {
    "deletable": false,
    "editable": false
   },
   "source": [
    "## Submission\n",
    "\n",
    "Make sure you have run all cells in your notebook in order before running the cell below, so that all images/graphs appear in the output. The cell below will generate a zip file for you to submit. **Please save before exporting!**\n",
    "\n",
    "These are some submission instructions."
   ]
  },
  {
   "cell_type": "code",
   "execution_count": 36,
   "metadata": {
    "deletable": false,
    "editable": false
   },
   "outputs": [],
   "source": [
    "# Save your notebook first, then run this cell to export your submission.\n",
    "# grader.export(run_tests=True)"
   ]
  },
  {
   "cell_type": "markdown",
   "metadata": {},
   "source": [
    " "
   ]
  }
 ],
 "metadata": {
  "kernelspec": {
   "display_name": "Python 3",
   "language": "python",
   "name": "python3"
  },
  "language_info": {
   "codemirror_mode": {
    "name": "ipython",
    "version": 3
   },
   "file_extension": ".py",
   "mimetype": "text/x-python",
   "name": "python",
   "nbconvert_exporter": "python",
   "pygments_lexer": "ipython3",
   "version": "0.0.0"
  },
  "otter": {
   "OK_FORMAT": true,
   "tests": {}
  },
  "varInspector": {
   "cols": {
    "lenName": 16,
    "lenType": 16,
    "lenVar": 40
   },
   "kernels_config": {
    "python": {
     "delete_cmd_postfix": "",
     "delete_cmd_prefix": "del ",
     "library": "var_list.py",
     "varRefreshCmd": "print(var_dic_list())"
    },
    "r": {
     "delete_cmd_postfix": ") ",
     "delete_cmd_prefix": "rm(",
     "library": "var_list.r",
     "varRefreshCmd": "cat(var_dic_list()) "
    }
   },
   "types_to_exclude": [
    "module",
    "function",
    "builtin_function_or_method",
    "instance",
    "_Feature"
   ],
   "window_display": false
  },
  "vscode": {
   "interpreter": {
    "hash": "b0fa6594d8f4cbf19f97940f81e996739fb7646882a419484c72d19e05852a7e"
   }
  }
 },
 "nbformat": 4,
 "nbformat_minor": 4
}
